{
  "nbformat": 4,
  "nbformat_minor": 0,
  "metadata": {
    "colab": {
      "provenance": []
    },
    "kernelspec": {
      "name": "python3",
      "display_name": "Python 3"
    },
    "language_info": {
      "name": "python"
    }
  },
  "cells": [
    {
      "cell_type": "code",
      "source": [
        "# preprocessing_minimal_tpm.py\n",
        "# Minimal preprocessing for TPM RNA-seq data\n",
        "\n",
        "import pandas as pd\n",
        "import numpy as np\n",
        "\n",
        "INPUT_FILE = \"/content/human_liver.tsv\"   # your downloaded TSV\n",
        "OUTPUT_DIR = \"/content/preproc_outputs\"\n",
        "\n",
        "# Load\n",
        "df = pd.read_csv(INPUT_FILE, sep=\"\\t\", index_col=0)\n",
        "\n",
        "# Log2 transform (stabilizes variance)\n",
        "df_log2 = np.log2(df + 1)\n",
        "\n",
        "# Filter low-expression genes (keep genes with log2(TPM+1) > 1 in at least 5 samples)\n",
        "mask = (df_log2 > 1).sum(axis=1) >= 5\n",
        "df_filtered = df_log2.loc[mask]\n",
        "\n",
        "# Save\n",
        "import os\n",
        "os.makedirs(OUTPUT_DIR, exist_ok=True)\n",
        "df_filtered.to_csv(f\"{OUTPUT_DIR}/data_preprocessed.tsv\", sep=\"\\t\")\n",
        "\n",
        "print(\"Original shape:\", df.shape)\n",
        "print(\"After filtering:\", df_filtered.shape)\n",
        "print(f\"Preprocessed data saved to {OUTPUT_DIR}/data_preprocessed.tsv\")\n"
      ],
      "metadata": {
        "colab": {
          "base_uri": "https://localhost:8080/"
        },
        "id": "nE3qJmcyZSol",
        "outputId": "769e50cf-5005-4b3e-bda9-b50b2a7ccb6e"
      },
      "execution_count": 4,
      "outputs": [
        {
          "output_type": "stream",
          "name": "stdout",
          "text": [
            "Original shape: (35238, 903)\n",
            "After filtering: (30612, 903)\n",
            "Preprocessed data saved to /content/preproc_outputs/data_preprocessed.tsv\n"
          ]
        }
      ]
    }
  ]
}